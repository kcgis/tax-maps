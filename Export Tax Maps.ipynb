{
 "cells": [
  {
   "cell_type": "markdown",
   "metadata": {},
   "source": [
    "# Overview"
   ]
  },
  {
   "cell_type": "markdown",
   "metadata": {},
   "source": [
    "This notebook handles generating and exporting the tax maps for the year. Rather than using a *Map Series* in a Layout, which can be rather limited in its functionality, we are using direct access to the `arcpy.mp` module and preconfigured layout pages.\n",
    "\n",
    "By combining this with some spatial selections and definition queries, we can generate tax maps for any given tax year."
   ]
  },
  {
   "cell_type": "markdown",
   "metadata": {},
   "source": [
    "## Parts of the Project"
   ]
  },
  {
   "cell_type": "markdown",
   "metadata": {},
   "source": [
    "### Maps\n",
    "\n",
    "|Map|Description|\n",
    "|-|-|\n",
    "|Township Locator|Highlights the township the tax map is in|\n",
    "|Section Locator|Shows the sections of the township, with the tax map's section highlighted|\n",
    "|Tax Map|Shows cadastral features and other reference layers|\n",
    "|Page Locator|*For 100 Scale Pages Only*; Shows the individual page w/in the section covered by the page\n",
    "\n",
    "### Layouts\n",
    "\n",
    "|Layout|Description|\n",
    "|-|-|\n",
    "|100 Scale|Map at 1:100 Scale|\n",
    "|400 Scale|Map at 1:400 Scale|"
   ]
  },
  {
   "cell_type": "markdown",
   "metadata": {},
   "source": [
    "## Process"
   ]
  },
  {
   "cell_type": "markdown",
   "metadata": {},
   "source": [
    "1. Get cadastral features for selected year, with user input\n",
    "2. Get tax map features\n",
    "3. For each tax page:\n",
    "    1. Set Tax Map page extent to page feature\n",
    "    2. Set locators based on intersected PLSS features\n",
    "    3. Adjust page surrounds to match page attributes\n",
    "    4. Export to PDF"
   ]
  },
  {
   "cell_type": "markdown",
   "metadata": {},
   "source": [
    "# Setup"
   ]
  },
  {
   "cell_type": "markdown",
   "metadata": {},
   "source": [
    "## Variables for the Year\n",
    "\n",
    "Set these variables to generate maps for the year."
   ]
  },
  {
   "cell_type": "code",
   "execution_count": 31,
   "metadata": {},
   "outputs": [],
   "source": [
    "tax_year = 2021\n",
    "NAS_loc = \"//172.20.2.98/gis/Historic Maps/Tax Map Pages\""
   ]
  },
  {
   "cell_type": "markdown",
   "metadata": {},
   "source": [
    "## Modules"
   ]
  },
  {
   "cell_type": "code",
   "execution_count": 2,
   "metadata": {},
   "outputs": [],
   "source": [
    "import pandas as pd\n",
    "import arcpy\n",
    "from arcgis import GIS\n",
    "from arcgis.geometry import filters\n",
    "from getpass import getpass\n",
    "import time"
   ]
  },
  {
   "cell_type": "markdown",
   "metadata": {},
   "source": [
    "## Log in to Portal, get Layers"
   ]
  },
  {
   "cell_type": "code",
   "execution_count": 3,
   "metadata": {},
   "outputs": [],
   "source": [
    "gis = GIS('home')\n",
    "\n",
    "tax_maps = gis.content.get('ee54052df6d64689b577daf1673933ad').layers[0]\n",
    "plss = gis.content.get('39620d6f9566420aa1f258be185fbe95')\n",
    "hosted_fabric = gis.content.get('647e966722f943d0b5d49f82288a839e')\n",
    "hosted_boundaries = gis.content.get('f8111964fc964f70b0a6376366988185')"
   ]
  },
  {
   "cell_type": "markdown",
   "metadata": {},
   "source": [
    "## Globals\n",
    "\n",
    "We'll use these variables whether we use the interactive section or the batch export."
   ]
  },
  {
   "cell_type": "code",
   "execution_count": 4,
   "metadata": {},
   "outputs": [],
   "source": [
    "# Current Project\n",
    "arpx = arcpy.mp.ArcGISProject('CURRENT')\n",
    "\n",
    "# Main map\n",
    "the_map = arpx.listMaps('Tax Map')[0]\n",
    "\n",
    "# Tax map layers\n",
    "pages = the_map.listLayers('Tax Map Pages')[0]\n",
    "the_page = the_map.listLayers('Subject Page')[0]\n",
    "\n",
    "\n",
    "## Layouts and locators\n",
    "# 100 Scale layouts and frames\n",
    "lyt_100 = arpx.listLayouts('100 Scale')[0]\n",
    "twp_loc_100 = lyt_100.listElements('MAPFRAME_ELEMENT', 'Township Locator')[0]\n",
    "sec_loc_100 = lyt_100.listElements('MAPFRAME_ELEMENT', 'Section Locator')[0]\n",
    "pg_loc = lyt_100.listElements('MAPFRAME_ELEMENT', 'Page Locator')[0]\n",
    "\n",
    "# 400 Scale layouts and frames\n",
    "lyt_400 = arpx.listLayouts('400 Scale')[0]\n",
    "twp_loc_400 = lyt_400.listElements('MAPFRAME_ELEMENT', 'Township Locator')[0]\n",
    "sec_loc_400 = lyt_400.listElements('MAPFRAME_ELEMENT', 'Section Locator')[0]\n",
    "\n",
    "# Locator Maps\n",
    "twp_map = arpx.listMaps('Township Locator')[0]\n",
    "sec_map = arpx.listMaps('Section Locator')[0]\n",
    "pg_map = arpx.listMaps('Page Locator')[0]\n",
    "\n",
    "# Locator Layers\n",
    "sec_feats = sec_map.listLayers('Sections')[0]\n",
    "twp_feats = twp_map.listLayers('Townships')[0]\n",
    "pg_feats = pg_map.listLayers('Pages')[0]\n",
    "sec_pages = sec_map.listLayers('Pages')[0]\n",
    "\n",
    "\n",
    "## Layer lists\n",
    "# Fabric Layers\n",
    "parcels = hosted_fabric.layers[1]\n",
    "subs = hosted_fabric.layers[2]\n",
    "lots = hosted_fabric.layers[3]\n",
    "corp = hosted_fabric.layers[7]\n",
    "\n",
    "# Boundaries\n",
    "p_lines = hosted_boundaries.layers[3]\n",
    "l_lines = hosted_boundaries.layers[2]\n",
    "s_lines = hosted_boundaries.layers[6]\n",
    "c_lines = hosted_boundaries.layers[5]\n",
    "\n",
    "# List for iterables\n",
    "fabric_layers = [\n",
    "    parcels,\n",
    "    subs,\n",
    "    lots,\n",
    "    corp,\n",
    "    p_lines,\n",
    "    l_lines,\n",
    "    s_lines,\n",
    "    c_lines\n",
    "]"
   ]
  },
  {
   "cell_type": "markdown",
   "metadata": {
    "heading_collapsed": true
   },
   "source": [
    "## Functions\n",
    "\n",
    "|Function|Description|\n",
    "|-|-|\n",
    "|`query_pages`|Filters tax map pages|\n",
    "|`convert_extent`|Converts an extent from `arcgis` to an `arcpy.Extent` object|"
   ]
  },
  {
   "cell_type": "code",
   "execution_count": 5,
   "metadata": {
    "hidden": true
   },
   "outputs": [],
   "source": [
    "def convert_extent(ext, buffer):\n",
    "    \"\"\"\n",
    "    Converts an extent object retrieved from the arcgis python module to a an arcpy.Extent object.\n",
    "    \n",
    "        Parameters:\n",
    "            ext (tuple): An extent from a geometry feature's extent property, formatted as (xmin, ymin, xmax, ymax)\n",
    "            buffer (float): The amount to buffer the extent so that map features do not extend to edge, as a percent of the total.\n",
    "        \n",
    "        Returns:\n",
    "            arcpy.Extent\n",
    "    \"\"\"\n",
    "    x_min, y_min, x_max, y_max = ext\n",
    "\n",
    "    hbuff = (x_max - x_min) * buffer\n",
    "    vbuff = (y_max - y_min) * buffer\n",
    "\n",
    "    return arcpy.Extent(x_min - hbuff,\n",
    "                       y_min - vbuff,\n",
    "                       x_max + hbuff,\n",
    "                       y_max + vbuff)\n",
    "\n",
    "\n",
    "def get_maps(arpx):\n",
    "    \"\"\"\n",
    "    Prints a list of maps in the current project.\n",
    "    \n",
    "        Parameters:\n",
    "            arpx (ArcGISProject): The current project.\n",
    "            \n",
    "        Returns:\n",
    "            List of maps in current project.\n",
    "    \"\"\"\n",
    "    print('Maps in Project:')\n",
    "    for m in arpx.listMaps():\n",
    "        print(f'  {arpx.listMaps().index(m):{3}} | {m.name}')\n",
    "\n",
    "        \n",
    "def get_layouts(arpx):\n",
    "    \"\"\"\n",
    "    Prints a list of layouts in the current project.\n",
    "    \n",
    "        Parameters:\n",
    "            arpx (ArcGISProject): The current project.\n",
    "            \n",
    "        Returns:\n",
    "            List of layouts in current project.\n",
    "    \"\"\"\n",
    "    print('Layouts in Project:')\n",
    "    for l in arpx.listLayouts():\n",
    "        print(f'  {arpx.listLayouts().index(l):{3}} | {l.name}')\n",
    "\n",
    "        \n",
    "def get_layers(some_map):\n",
    "    \"\"\"\n",
    "    Prints a list of maps in the current project.\n",
    "    \n",
    "        Parameters:\n",
    "            some_map (Map): A map in the project\n",
    "            \n",
    "        Returns:\n",
    "            List of layers in selected map.\n",
    "    \"\"\"\n",
    "    print(f'Layers in {some_map.name}:')\n",
    "    for m in some_map.listLayers():\n",
    "        print(f'  {some_map.listLayers().index(m):{3}} | {m.name}')\n",
    "        \n",
    "        \n",
    "def label_filter(geom_filt):\n",
    "    \"\"\"\n",
    "    Given a list of layers (defined in the globals above), set the Standard label class to include only those features with the relationship defined in `geom_filt`.\n",
    "    \n",
    "        Parameters:\n",
    "            layer_list (list): A list of services layers defined in \n",
    "    \"\"\"\n",
    "    for layer in fabric_layers:\n",
    "        \n",
    "        layer_ids = layer.query(geometry_filter=geom_filt, return_ids_only=True)['objectIds']\n",
    "\n",
    "        q_str = f\"objectid in ({','.join([str(x) for x in layer_ids])})\"\n",
    "\n",
    "        for lclass in the_map.listLayers(layer.properties.name)[0].listLabelClasses():\n",
    "            lclass.SQLQuery = q_str"
   ]
  },
  {
   "cell_type": "code",
   "execution_count": 30,
   "metadata": {
    "hidden": true
   },
   "outputs": [
    {
     "data": {
      "text/plain": [
       "[\"(created_date IS NULL Or created_date < timestamp '2022-01-08 00:00:00') And (retired_date IS NULL Or retired_date > timestamp '2022-01-08 00:00:00')\", \"(created_date IS NULL Or created_date < timestamp '2022-01-08 00:00:00') And (retired_date IS NULL Or retired_date > timestamp '2022-01-08 00:00:00')\", \"(created_date IS NULL Or created_date < timestamp '2022-01-08 00:00:00') And (retired_date IS NULL Or retired_date > timestamp '2022-01-08 00:00:00')\", \"(created_date IS NULL Or created_date < timestamp '2022-01-08 00:00:00') And (retired_date IS NULL Or retired_date > timestamp '2022-01-08 00:00:00')\", \"(created_date IS NULL Or created_date < timestamp '2022-01-08 00:00:00') And (retired_date IS NULL Or retired_date > timestamp '2022-01-08 00:00:00')\", \"(created_date IS NULL Or created_date < timestamp '2022-01-08 00:00:00') And (retired_date IS NULL Or retired_date > timestamp '2022-01-08 00:00:00')\", \"(created_date IS NULL Or created_date < timestamp '2022-01-08 00:00:00') And (retired_date IS NULL Or retired_date > timestamp '2022-01-08 00:00:00')\", '']"
      ]
     },
     "execution_count": 30,
     "metadata": {},
     "output_type": "execute_result"
    }
   ],
   "source": [
    "lyrs = the_map.listLayers('Cadastral Stuff')[0].listLayers()\n",
    "\n",
    "[l.definitionQuery for l in lyrs if not l.isGroupLayer]"
   ]
  },
  {
   "cell_type": "markdown",
   "metadata": {},
   "source": [
    "## Prep Work"
   ]
  },
  {
   "cell_type": "markdown",
   "metadata": {},
   "source": [
    "Get the tax maps into their dataframes."
   ]
  },
  {
   "cell_type": "code",
   "execution_count": 5,
   "metadata": {},
   "outputs": [
    {
     "data": {
      "text/html": [
       "<div>\n",
       "<style scoped>\n",
       "    .dataframe tbody tr th:only-of-type {\n",
       "        vertical-align: middle;\n",
       "    }\n",
       "\n",
       "    .dataframe tbody tr th {\n",
       "        vertical-align: top;\n",
       "    }\n",
       "\n",
       "    .dataframe thead th {\n",
       "        text-align: right;\n",
       "    }\n",
       "</style>\n",
       "<table border=\"1\" class=\"dataframe\">\n",
       "  <thead>\n",
       "    <tr style=\"text-align: right;\">\n",
       "      <th></th>\n",
       "      <th>letter</th>\n",
       "      <th>scale</th>\n",
       "      <th>description</th>\n",
       "      <th>page</th>\n",
       "      <th>objectid</th>\n",
       "      <th>township</th>\n",
       "      <th>SHAPE</th>\n",
       "    </tr>\n",
       "  </thead>\n",
       "  <tbody>\n",
       "    <tr>\n",
       "      <th>0</th>\n",
       "      <td>H</td>\n",
       "      <td>100</td>\n",
       "      <td>Oswego Township\\n\\nE ½ of SE ¼\\nSection 25\\n\\n...</td>\n",
       "      <td>03-25H</td>\n",
       "      <td>1</td>\n",
       "      <td>03</td>\n",
       "      <td>{\"rings\": [[[1004393.8899819106, 1815326.53997...</td>\n",
       "    </tr>\n",
       "    <tr>\n",
       "      <th>1</th>\n",
       "      <td>A</td>\n",
       "      <td>100</td>\n",
       "      <td>Oswego Township\\n\\nW ½ of NW ¼\\nSection 36\\n\\n...</td>\n",
       "      <td>03-36A</td>\n",
       "      <td>2</td>\n",
       "      <td>03</td>\n",
       "      <td>{\"rings\": [[[999201.5831093304, 1812588.582200...</td>\n",
       "    </tr>\n",
       "    <tr>\n",
       "      <th>2</th>\n",
       "      <td>B</td>\n",
       "      <td>100</td>\n",
       "      <td>Oswego Township\\n\\nE ½ of NW ¼\\nSection 36\\n\\n...</td>\n",
       "      <td>03-36B</td>\n",
       "      <td>3</td>\n",
       "      <td>03</td>\n",
       "      <td>{\"rings\": [[[1001840.6299965791, 1812634.13985...</td>\n",
       "    </tr>\n",
       "    <tr>\n",
       "      <th>3</th>\n",
       "      <td>E</td>\n",
       "      <td>100</td>\n",
       "      <td>Oswego Township\\n\\nW ½ of SW ¼\\nSection 36\\n\\n...</td>\n",
       "      <td>03-36E</td>\n",
       "      <td>4</td>\n",
       "      <td>03</td>\n",
       "      <td>{\"rings\": [[[1000543.0000459105, 1809964.76789...</td>\n",
       "    </tr>\n",
       "    <tr>\n",
       "      <th>4</th>\n",
       "      <td>F</td>\n",
       "      <td>100</td>\n",
       "      <td>Oswego Township\\n\\nE ½ of SW ¼\\nSection 36\\n\\n...</td>\n",
       "      <td>03-36F</td>\n",
       "      <td>5</td>\n",
       "      <td>03</td>\n",
       "      <td>{\"rings\": [[[1001899.9399173297, 1809987.23044...</td>\n",
       "    </tr>\n",
       "  </tbody>\n",
       "</table>\n",
       "</div>"
      ],
      "text/plain": [
       "  letter scale  ... township                                              SHAPE\n",
       "0      H   100  ...       03  {\"rings\": [[[1004393.8899819106, 1815326.53997...\n",
       "1      A   100  ...       03  {\"rings\": [[[999201.5831093304, 1812588.582200...\n",
       "2      B   100  ...       03  {\"rings\": [[[1001840.6299965791, 1812634.13985...\n",
       "3      E   100  ...       03  {\"rings\": [[[1000543.0000459105, 1809964.76789...\n",
       "4      F   100  ...       03  {\"rings\": [[[1001899.9399173297, 1809987.23044...\n",
       "\n",
       "[5 rows x 7 columns]"
      ]
     },
     "execution_count": 5,
     "metadata": {},
     "output_type": "execute_result"
    }
   ],
   "source": [
    "t_100 = tax_maps.query(where=\"scale = '100'\", as_df=True)\n",
    "t_400 = tax_maps.query(where=\"scale = '400'\", as_df=True)"
   ]
  },
  {
   "cell_type": "markdown",
   "metadata": {},
   "source": [
    "Set definition queries on the cadastral features."
   ]
  },
  {
   "cell_type": "code",
   "execution_count": 40,
   "metadata": {},
   "outputs": [],
   "source": [
    "feat_query = f\"(created_date IS NULL Or created_date < timestamp '{tax_year + 1}-01-08 00:00:00') AND (retired_date IS NULL Or retired_date > timestamp '{tax_year + 1}-01-08 00:00:00')\"\n",
    "\n",
    "for l in the_map.listLayers('Cadastral Stuff')[0].listLayers():\n",
    "    if not l.isGroupLayer:\n",
    "        l.definitionQuery = feat_query"
   ]
  },
  {
   "cell_type": "markdown",
   "metadata": {
    "heading_collapsed": true
   },
   "source": [
    "# Demonstration"
   ]
  },
  {
   "cell_type": "markdown",
   "metadata": {
    "hidden": true
   },
   "source": [
    "## 1:100 Scale Maps"
   ]
  },
  {
   "cell_type": "markdown",
   "metadata": {
    "hidden": true
   },
   "source": [
    "We'll use the first map in the frame as an example, and walk through the process step by step so that it is well-documented and (hopefully) well-understood what's going on in this process."
   ]
  },
  {
   "cell_type": "code",
   "execution_count": 6,
   "metadata": {
    "hidden": true
   },
   "outputs": [
    {
     "data": {
      "text/plain": [
       "letter                                                         A\n",
       "scale                                                        100\n",
       "description    Oswego Township\\n\\nW ½ of NW ¼\\nSection 16\\n\\n...\n",
       "page                                                      03-16A\n",
       "objectid                                                      51\n",
       "township                                                      03\n",
       "SHAPE          {'rings': [[[982941.719959829, 1828215.3800146...\n",
       "Name: 50, dtype: object"
      ]
     },
     "execution_count": 6,
     "metadata": {},
     "output_type": "execute_result"
    }
   ],
   "source": [
    "test_page = t_100.loc[50, :]\n",
    "test_page"
   ]
  },
  {
   "cell_type": "markdown",
   "metadata": {
    "hidden": true
   },
   "source": [
    "### Filtering Data\n",
    "\n",
    "Using the separate dataframe, we can hold the subject page in memory and access its attributes, but make it disappear from the map itself. The remaining tax map page features will stay visible to screen out non-subject areas lightly."
   ]
  },
  {
   "cell_type": "code",
   "execution_count": 11,
   "metadata": {
    "hidden": true
   },
   "outputs": [],
   "source": [
    "# Set query for page layers\n",
    "pages.definitionQuery = f\"page <> '{test_page['page']}'\"\n",
    "\n",
    "the_page = the_map.listLayers('Subject Page')[0]\n",
    "the_page.definitionQuery = f\"page = '{test_page['page']}'\""
   ]
  },
  {
   "cell_type": "markdown",
   "metadata": {
    "hidden": true
   },
   "source": [
    "### Setting Extent\n",
    "\n",
    "We'll take that same subject page feature and use its `SHAPE` attribute to create an `arcpy.Extent` object, then pass that to the layout's `camera`."
   ]
  },
  {
   "cell_type": "code",
   "execution_count": 10,
   "metadata": {
    "hidden": true
   },
   "outputs": [],
   "source": [
    "pg_ext = convert_extent(test_page['SHAPE'].extent, 0.1)\n",
    "\n",
    "lyt_100 = arpx.listLayouts('100 Scale')[0]\n",
    "\n",
    "main_frame = lyt_100.listElements('MAPFRAME_ELEMENT', 'Main Frame')[0]\n",
    "\n",
    "main_frame.camera.setExtent(pg_ext)\n",
    "\n",
    "main_frame.camera.scale = 2400"
   ]
  },
  {
   "cell_type": "markdown",
   "metadata": {
    "hidden": true
   },
   "source": [
    "### Updating Locators\n",
    "\n",
    "You'd think something like this would be easier, but getting the locators to update the way we want is a bit of a process.\n",
    "\n",
    "For the **Township Locator**, it's a simple as selecting the right feature. For the **Section Locator**, however, we need the locator map filtered to and centered around the township highlighted in the other locator.\n",
    "\n",
    "For the 1:100 maps, we also want the **Page Locator** filtered down to the single section from the second locator.\n",
    "\n",
    "To do this, we have will\n",
    "\n",
    "1. Create a `geometry_filter` from the page shape's centroid\n",
    "2. Pass that filter into queries to the locator features\n",
    "3. Use the returned OIDs to\n",
    "    1. Derive various extents\n",
    "    2. Select and filter features"
   ]
  },
  {
   "cell_type": "code",
   "execution_count": 12,
   "metadata": {
    "hidden": true
   },
   "outputs": [],
   "source": [
    "pg_cent_filt = filters.within(test_page['SHAPE'].true_centroid, test_page['SHAPE'].spatialReference)\n",
    "\n",
    "# Townships\n",
    "twp = plss.layers[0].query(geometry_filter = pg_cent_filt, as_df = True).iloc[0]\n",
    "\n",
    "# Sections\n",
    "sec = plss.layers[1].query(geometry_filter = pg_cent_filt, as_df = True).iloc[0]"
   ]
  },
  {
   "cell_type": "markdown",
   "metadata": {
    "hidden": true
   },
   "source": [
    "Using the `objectid` from the returned PLSS features, we can update those maps!"
   ]
  },
  {
   "cell_type": "code",
   "execution_count": 38,
   "metadata": {
    "hidden": true
   },
   "outputs": [],
   "source": [
    "# Select township\n",
    "twp_feats.setSelectionSet([int(twp.objectid)])"
   ]
  },
  {
   "cell_type": "code",
   "execution_count": 36,
   "metadata": {
    "hidden": true
   },
   "outputs": [],
   "source": [
    "# Select section, filter secs outside of twp; turn off pages if still on\n",
    "sec_pages.visible = False\n",
    "sec_pages.setSelectionSet([])\n",
    "sec_feats.setSelectionSet([int(sec.objectid)])\n",
    "sec_feats.definitionQuery = f\"twpid = {twp['twp']}\"\n",
    "\n",
    "# Section locator to township extent\n",
    "sec_ext_100 = convert_extent(twp['SHAPE'].extent, 0.05)\n",
    "sec_loc_100.camera.setExtent(sec_ext_100)"
   ]
  },
  {
   "cell_type": "code",
   "execution_count": 35,
   "metadata": {
    "hidden": true
   },
   "outputs": [],
   "source": [
    "# Select page, filter pages outside of sec\n",
    "pg_feats.setSelectionSet([int(test_page.objectid)])\n",
    "pg_feats.definitionQuery = f\"scale = '100' and SUBSTRING(page, 4, 2) = '{sec['sect']}' and SUBSTRING(page, 2, 1) = '{twp['twp']}'\" \n",
    "\n",
    "# Page locator to section extent\n",
    "pg_ext = convert_extent(sec['SHAPE'].extent, 0.05)\n",
    "pg_loc.camera.setExtent(pg_ext)"
   ]
  },
  {
   "cell_type": "code",
   "execution_count": 34,
   "metadata": {
    "hidden": true
   },
   "outputs": [
    {
     "data": {
      "text/plain": [
       "297"
      ]
     },
     "execution_count": 34,
     "metadata": {},
     "output_type": "execute_result"
    }
   ],
   "source": [
    "sec.objectid"
   ]
  },
  {
   "cell_type": "markdown",
   "metadata": {
    "hidden": true
   },
   "source": [
    "### Feature Labels"
   ]
  },
  {
   "cell_type": "markdown",
   "metadata": {
    "hidden": true
   },
   "source": [
    "For the nicest-possible display, we want to limit the number of features being labelled in the layout to those which are on the page itself, or just over the margin.\n",
    "\n",
    "To do this, we'll use another **geometry filter** of the page feature, plus a slight buffer. We'll use the custom `label_filter` function to pass the filtered geometry OIDs to the label class definition."
   ]
  },
  {
   "cell_type": "code",
   "execution_count": 16,
   "metadata": {
    "hidden": true
   },
   "outputs": [],
   "source": [
    "pg_filt = filters.intersects(test_page['SHAPE'].buffer(25).densify('ANGLE', 10, 10), test_page['SHAPE'])\n",
    "\n",
    "label_filter(pg_filt)"
   ]
  },
  {
   "cell_type": "markdown",
   "metadata": {
    "hidden": true
   },
   "source": [
    "#### Parcels"
   ]
  },
  {
   "cell_type": "markdown",
   "metadata": {
    "hidden": true
   },
   "source": [
    "For parcels in particular, we want to append the appropriate parcel subtype query to the SQL string, so we'll do that separately."
   ]
  },
  {
   "cell_type": "code",
   "execution_count": 17,
   "metadata": {
    "hidden": true
   },
   "outputs": [],
   "source": [
    "the_map.listLayers('Parcels')[0].listLabelClasses('Standard')[0].SQLQuery += \" and parcel_type = 'Ownership Parcel'\"\n",
    "the_map.listLayers('Parcels')[0].listLabelClasses('Condos')[0].SQLQuery += \" and parcel_type = 'Condominium Unit'\"\n",
    "the_map.listLayers('Parcels')[0].listLabelClasses('Leaseholds')[0].SQLQuery += \" and parcel_type = 'Leasehold or Other'\""
   ]
  },
  {
   "cell_type": "markdown",
   "metadata": {
    "hidden": true
   },
   "source": [
    "### Page Labels"
   ]
  },
  {
   "cell_type": "markdown",
   "metadata": {
    "hidden": true
   },
   "source": [
    "Similarly, we want adjacent tax map pages labeled around the edge of this page."
   ]
  },
  {
   "cell_type": "code",
   "execution_count": 18,
   "metadata": {
    "hidden": true
   },
   "outputs": [],
   "source": [
    "p_ids = tax_maps.query(where=\"scale = '100'\", geometry_filter=pg_filt, return_ids_only=True)['objectIds']\n",
    "\n",
    "pages.listLabelClasses()[0].SQLQuery = f\"objectid in ({','.join([str(x) for x in p_ids])})\""
   ]
  },
  {
   "cell_type": "markdown",
   "metadata": {
    "hidden": true
   },
   "source": [
    "### Updating Text\n",
    "\n",
    "On the tax map's margin, there are a few text elements that need to be updated, which we will do here."
   ]
  },
  {
   "cell_type": "code",
   "execution_count": 19,
   "metadata": {
    "hidden": true
   },
   "outputs": [],
   "source": [
    "lyt_100.listElements('TEXT_ELEMENT', 'Page Name')[0].text = test_page['page']\n",
    "lyt_100.listElements('TEXT_ELEMENT', 'Page Description')[0].text = test_page['description'] + '\\n\\nKendall County, Illinois'"
   ]
  },
  {
   "cell_type": "markdown",
   "metadata": {
    "hidden": true
   },
   "source": [
    "### Export"
   ]
  },
  {
   "cell_type": "code",
   "execution_count": 39,
   "metadata": {
    "hidden": true
   },
   "outputs": [
    {
     "data": {
      "text/plain": [
       "'//172.20.2.98/gis/Historic Maps/Tax Map Pages/03-16A_2021_line.pdf'"
      ]
     },
     "execution_count": 39,
     "metadata": {},
     "output_type": "execute_result"
    }
   ],
   "source": [
    "# Export layout item\n",
    "lyt_100.exportToPDF(\n",
    "    out_pdf = f\"//172.20.2.98/gis/Historic Maps/Tax Map Pages/{test_page['page']}_2021_line.pdf\",\n",
    "    resolution = 300,\n",
    "    image_quality = 'NORMAL',\n",
    "    layers_attributes = 'NONE',\n",
    "    georef_info = False\n",
    ")"
   ]
  },
  {
   "cell_type": "markdown",
   "metadata": {
    "hidden": true
   },
   "source": [
    "## 400 Scale Maps\n",
    "\n",
    "Mostly the same as the 100 scale, but we won't worry about the page locator this time. We also make the pages themselves visible on the Section locator."
   ]
  },
  {
   "cell_type": "code",
   "execution_count": 8,
   "metadata": {
    "hidden": true
   },
   "outputs": [],
   "source": [
    "test_page = t_400.loc[30, :]\n",
    "\n",
    "#Geometry Filter\n",
    "pg_cent_filt = filters.within(test_page['SHAPE'].true_centroid, test_page['SHAPE'].spatialReference)\n",
    "\n",
    "# Townships\n",
    "twp = plss.layers[0].query(geometry_filter = pg_cent_filt, as_df = True).iloc[0]\n",
    "\n",
    "# Sections\n",
    "sec = plss.layers[1].query(geometry_filter = pg_cent_filt, as_df = True).iloc[0]"
   ]
  },
  {
   "cell_type": "code",
   "execution_count": 9,
   "metadata": {
    "hidden": true
   },
   "outputs": [],
   "source": [
    "# Set query for page layers\n",
    "pages.definitionQuery = f\"page <> '{test_page['page']}' and scale <> '100'\"\n",
    "\n",
    "the_page.definitionQuery = f\"page = '{test_page['page']}' and scale <> '100'\""
   ]
  },
  {
   "cell_type": "code",
   "execution_count": null,
   "metadata": {
    "hidden": true
   },
   "outputs": [],
   "source": [
    "# Main Frame extent and scale\n",
    "pg_ext = convert_extent(test_page['SHAPE'].extent, 0.1)\n",
    "\n",
    "lyt_400.listElements('MAPFRAME_ELEMENT', 'Main Frame')[0].camera.setExtent(pg_ext)\n",
    "lyt_400.listElements('MAPFRAME_ELEMENT', 'Main Frame')[0].camera.scale = 9600"
   ]
  },
  {
   "cell_type": "markdown",
   "metadata": {
    "hidden": true
   },
   "source": [
    "### Locators"
   ]
  },
  {
   "cell_type": "code",
   "execution_count": 22,
   "metadata": {
    "hidden": true
   },
   "outputs": [],
   "source": [
    "# Select township\n",
    "twp_feats.setSelectionSet([twp['objectid']])\n",
    "\n",
    "# Turn on pages layer\n",
    "sec_pages.visible = True\n",
    "\n",
    "# Select page, filter secs outside of twp, clear section selection if any\n",
    "sec_pages.setSelectionSet([test_page['objectid']])\n",
    "sec_feats.setSelectionSet([])\n",
    "sec_feats.definitionQuery = f\"twpid = {twp['twp']}\"\n",
    "\n",
    "# Section locator to township extent\n",
    "sec_ext_400 = convert_extent(twp['SHAPE'].extent, 0.05)\n",
    "sec_loc_400.camera.setExtent(sec_ext_400)"
   ]
  },
  {
   "cell_type": "markdown",
   "metadata": {
    "hidden": true
   },
   "source": [
    "### Labels"
   ]
  },
  {
   "cell_type": "code",
   "execution_count": 25,
   "metadata": {
    "hidden": true
   },
   "outputs": [],
   "source": [
    "pg_filt = filters.intersects(test_page['SHAPE'].buffer(25).densify('ANGLE', 10, 10), test_page['SHAPE'])\n",
    "\n",
    "label_filter(pg_filt)\n",
    "\n",
    "the_map.listLayers('Parcels')[0].listLabelClasses('Standard')[0].SQLQuery += \" and parcel_type = 'Ownership Parcel'\"\n",
    "the_map.listLayers('Parcels')[0].listLabelClasses('Condos')[0].SQLQuery += \" and parcel_type = 'Condominium Unit'\"\n",
    "the_map.listLayers('Parcels')[0].listLabelClasses('Leaseholds')[0].SQLQuery += \" and parcel_type = 'Leasehold or Other'\"\n",
    "\n",
    "p_ids = tax_maps.query(where=\"scale = '400'\", geometry_filter=pg_filt, return_ids_only=True)['objectIds']\n",
    "\n",
    "pages.listLabelClasses()[0].SQLQuery = f\"objectid in ({','.join([str(x) for x in p_ids])})\""
   ]
  },
  {
   "cell_type": "markdown",
   "metadata": {
    "hidden": true
   },
   "source": [
    "### Text Elements"
   ]
  },
  {
   "cell_type": "code",
   "execution_count": 26,
   "metadata": {
    "hidden": true
   },
   "outputs": [],
   "source": [
    "lyt_400.listElements('TEXT_ELEMENT', 'Page Name')[0].text = test_page['page']\n",
    "lyt_400.listElements('TEXT_ELEMENT', 'Page Description')[0].text = test_page['description'] + '\\n\\nKendall County, Illinois'"
   ]
  },
  {
   "cell_type": "markdown",
   "metadata": {
    "hidden": true
   },
   "source": [
    "### Export"
   ]
  },
  {
   "cell_type": "code",
   "execution_count": 27,
   "metadata": {
    "hidden": true
   },
   "outputs": [
    {
     "data": {
      "text/plain": [
       "'//172.20.2.107/gis/Historic Maps/Tax Map Pages/08-C_2020_line.pdf'"
      ]
     },
     "execution_count": 27,
     "metadata": {},
     "output_type": "execute_result"
    }
   ],
   "source": [
    "# Export layout item\n",
    "lyt_400.exportToPDF(\n",
    "    out_pdf = f\"//172.20.2.107/gis/Historic Maps/Tax Map Pages/{test_page['page']}_2020_line.pdf\",\n",
    "    resolution = 300,\n",
    "    image_quality = 'NORMAL',\n",
    "    layers_attributes = 'NONE',\n",
    "    georef_info = False\n",
    ")"
   ]
  },
  {
   "cell_type": "markdown",
   "metadata": {},
   "source": [
    "# Batch Export"
   ]
  },
  {
   "cell_type": "markdown",
   "metadata": {},
   "source": [
    "Now we'll do a bunch of maps at once!"
   ]
  },
  {
   "cell_type": "code",
   "execution_count": 18,
   "metadata": {},
   "outputs": [
    {
     "name": "stdout",
     "output_type": "stream",
     "text": [
      " 28 %  |  180 of 638 printed.  |    0 min elapsed, est.   1 remaining\n",
      " 29 %  |  190 of 638 printed.  |    2 min elapsed, est.   4 remaining\n",
      " 31 %  |  200 of 638 printed.  |    3 min elapsed, est.   7 remaining\n",
      " 32 %  |  210 of 638 printed.  |    4 min elapsed, est.   9 remaining\n",
      " 34 %  |  220 of 638 printed.  |    6 min elapsed, est.  11 remaining\n",
      " 36 %  |  230 of 638 printed.  |    7 min elapsed, est.  13 remaining\n",
      " 37 %  |  240 of 638 printed.  |    8 min elapsed, est.  14 remaining\n",
      " 39 %  |  250 of 638 printed.  |   10 min elapsed, est.  15 remaining\n",
      " 40 %  |  260 of 638 printed.  |   11 min elapsed, est.  16 remaining\n",
      " 42 %  |  270 of 638 printed.  |   12 min elapsed, est.  17 remaining\n",
      " 43 %  |  280 of 638 printed.  |   14 min elapsed, est.  18 remaining\n",
      " 45 %  |  290 of 638 printed.  |   15 min elapsed, est.  18 remaining\n",
      " 47 %  |  300 of 638 printed.  |   18 min elapsed, est.  20 remaining\n",
      " 48 %  |  310 of 638 printed.  |   20 min elapsed, est.  21 remaining\n",
      " 50 %  |  320 of 638 printed.  |   22 min elapsed, est.  22 remaining\n",
      " 51 %  |  330 of 638 printed.  |   25 min elapsed, est.  23 remaining\n",
      " 53 %  |  340 of 638 printed.  |   27 min elapsed, est.  24 remaining\n",
      " 54 %  |  350 of 638 printed.  |   31 min elapsed, est.  25 remaining\n",
      " 56 %  |  360 of 638 printed.  |   34 min elapsed, est.  26 remaining\n",
      " 57 %  |  370 of 638 printed.  |   37 min elapsed, est.  27 remaining\n",
      " 59 %  |  380 of 638 printed.  |   38 min elapsed, est.  26 remaining\n",
      " 61 %  |  390 of 638 printed.  |   40 min elapsed, est.  25 remaining\n",
      " 62 %  |  400 of 638 printed.  |   42 min elapsed, est.  25 remaining\n",
      " 64 %  |  410 of 638 printed.  |   44 min elapsed, est.  25 remaining\n",
      " 65 %  |  420 of 638 printed.  |   46 min elapsed, est.  24 remaining\n",
      " 67 %  |  430 of 638 printed.  |   47 min elapsed, est.  23 remaining\n",
      " 68 %  |  440 of 638 printed.  |   49 min elapsed, est.  22 remaining\n",
      " 70 %  |  450 of 638 printed.  |   51 min elapsed, est.  21 remaining\n",
      " 72 %  |  460 of 638 printed.  |   53 min elapsed, est.  20 remaining\n",
      " 73 %  |  470 of 638 printed.  |   54 min elapsed, est.  19 remaining\n",
      " 75 %  |  480 of 638 printed.  |   56 min elapsed, est.  18 remaining\n",
      " 76 %  |  490 of 638 printed.  |   59 min elapsed, est.  18 remaining\n",
      " 78 %  |  500 of 638 printed.  |   61 min elapsed, est.  17 remaining\n",
      " 79 %  |  510 of 638 printed.  |   63 min elapsed, est.  16 remaining\n",
      " 81 %  |  520 of 638 printed.  |   65 min elapsed, est.  15 remaining\n",
      " 83 %  |  530 of 638 printed.  |   68 min elapsed, est.  14 remaining\n",
      " 84 %  |  540 of 638 printed.  |   70 min elapsed, est.  13 remaining\n",
      " 86 %  |  550 of 638 printed.  |   72 min elapsed, est.  12 remaining\n",
      " 87 %  |  560 of 638 printed.  |   74 min elapsed, est.  10 remaining\n",
      " 89 %  |  570 of 638 printed.  |   77 min elapsed, est.   9 remaining\n",
      " 90 %  |  580 of 638 printed.  |   80 min elapsed, est.   8 remaining\n",
      " 92 %  |  590 of 638 printed.  |   83 min elapsed, est.   7 remaining\n",
      " 94 %  |  600 of 638 printed.  |   87 min elapsed, est.   5 remaining\n",
      " 95 %  |  610 of 638 printed.  |   88 min elapsed, est.   4 remaining\n",
      " 97 %  |  620 of 638 printed.  |   90 min elapsed, est.   3 remaining\n",
      " 98 %  |  630 of 638 printed.  |   92 min elapsed, est.   1 remaining\n",
      "Finished at 93 minutes.\n"
     ]
    }
   ],
   "source": [
    "# 100 Scale\n",
    "start = time.perf_counter()\n",
    "\n",
    "n = 180\n",
    "while n < len(t_100):\n",
    "    \n",
    "    # Get page feature\n",
    "    pg = t_100.loc[n, :]\n",
    "    \n",
    "    # Set page extent and scale\n",
    "    pg_ext = convert_extent(pg['SHAPE'].extent, 0.1)\n",
    "\n",
    "    lyt_100.listElements('MAPFRAME_ELEMENT', 'Main Frame')[0].camera.setExtent(pg_ext)\n",
    "    lyt_100.listElements('MAPFRAME_ELEMENT', 'Main Frame')[0].camera.scale = 2400\n",
    "    \n",
    "    # Set query for page layers\n",
    "    pages.definitionQuery = f\"page <> '{pg['page']}'\"\n",
    "    the_page.definitionQuery = f\"page = '{pg['page']}'\"\n",
    "    \n",
    "    # Geometry filter for PLSS\n",
    "    pg_cent_filt = filters.within(pg['SHAPE'].true_centroid, pg['SHAPE'].spatialReference)\n",
    "\n",
    "    # Townships\n",
    "    twp = plss.layers[0].query(geometry_filter = pg_cent_filt, as_df = True).iloc[0]\n",
    "\n",
    "    # Sections\n",
    "    sec = plss.layers[1].query(geometry_filter = pg_cent_filt, as_df = True).iloc[0]\n",
    "    \n",
    "    \n",
    "    ## Locators\n",
    "    # Select township\n",
    "    twp_feats.setSelectionSet([int(twp['objectid'])])\n",
    "    \n",
    "    # Select section, filter secs outside of twp; turn off pages if still on\n",
    "    sec_pages.visible = False\n",
    "    sec_pages.setSelectionSet([])\n",
    "    sec_feats.setSelectionSet([int(sec['objectid'])])\n",
    "    sec_feats.definitionQuery = f\"twpid = {twp['twp']}\"\n",
    "\n",
    "    # Section locator to township extent\n",
    "    sec_ext_100 = convert_extent(twp['SHAPE'].extent, 0.05)\n",
    "    sec_loc_100.camera.setExtent(sec_ext_100)\n",
    "    \n",
    "    # Select page, filter pages outside of sec\n",
    "    pg_feats.setSelectionSet([int(pg['objectid'])])\n",
    "    pg_feats.definitionQuery = f\"scale = '100' and SUBSTRING(page, 4, 2) = '{sec['sect']}' and SUBSTRING(page, 2, 1) = '{twp['twp']}'\" \n",
    "\n",
    "    # Page locator to section extent\n",
    "    pg_ext = convert_extent(sec['SHAPE'].extent, 0.05)\n",
    "    pg_loc.camera.setExtent(pg_ext)\n",
    "    \n",
    "    ## Labels\n",
    "    # Features\n",
    "    pg_filt = filters.intersects(pg['SHAPE'].buffer(25).densify('ANGLE', 10, 10), pg['SHAPE'])\n",
    "    \n",
    "    label_filter(pg_filt)\n",
    "    \n",
    "    # Append subtypes to parcel filters\n",
    "    the_map.listLayers('Parcels')[0].listLabelClasses('Standard')[0].SQLQuery += \" and parcel_type = 'Ownership Parcel'\"\n",
    "    the_map.listLayers('Parcels')[0].listLabelClasses('Condos')[0].SQLQuery += \" and parcel_type = 'Condominium Unit'\"\n",
    "    the_map.listLayers('Parcels')[0].listLabelClasses('Leaseholds')[0].SQLQuery += \" and parcel_type = 'Leasehold or Other'\"\n",
    "    \n",
    "    # Pages\n",
    "    p_ids = tax_maps.query(where=\"scale = '100'\", geometry_filter=pg_filt, return_ids_only=True)['objectIds']\n",
    "\n",
    "    pages.listLabelClasses()[0].SQLQuery = f\"objectid in ({','.join([str(x) for x in p_ids])})\"\n",
    "    \n",
    "    ## Update Text\n",
    "    lyt_100.listElements('TEXT_ELEMENT', 'Page Name')[0].text = pg['page']\n",
    "    lyt_100.listElements('TEXT_ELEMENT', 'Page Description')[0].text = pg['description'] + '\\n\\nKendall County, Illinois'\n",
    "    \n",
    "    ## Export\n",
    "    lyt_100.exportToPDF(\n",
    "        out_pdf = f\"{NAS_loc}/{pg['page']}_{tax_year}_line.pdf\",\n",
    "        resolution = 300,\n",
    "        image_quality = 'NORMAL',\n",
    "        layers_attributes = 'NONE',\n",
    "        georef_info = False\n",
    "    )\n",
    "    \n",
    "    if (n % 10) == 0 and n > 0:\n",
    "        elapsed = (time.perf_counter() - start)\n",
    "        remaining = (time.perf_counter() - start)/(n / len(t_100)) - elapsed\n",
    "        print(f'{int(n / len(t_100) * 100)//1:3} %  |  {n:3} of {len(t_100):3} printed.  |  {elapsed/60:>3.0f} min elapsed, est. {remaining/60:>3.0f} remaining')\n",
    "    \n",
    "    n += 1\n",
    "    \n",
    "print(f'Finished at {(time.perf_counter() - start)/60:.0f} minutes.')"
   ]
  },
  {
   "cell_type": "code",
   "execution_count": 19,
   "metadata": {},
   "outputs": [
    {
     "name": "stdout",
     "output_type": "stream",
     "text": [
      "  6 %  |   10 of 162 printed.  |    2 min elapsed, est.  37 remaining\n",
      " 12 %  |   20 of 162 printed.  |    4 min elapsed, est.  29 remaining\n",
      " 18 %  |   30 of 162 printed.  |    6 min elapsed, est.  25 remaining\n",
      " 24 %  |   40 of 162 printed.  |    8 min elapsed, est.  23 remaining\n",
      " 30 %  |   50 of 162 printed.  |   10 min elapsed, est.  22 remaining\n",
      " 37 %  |   60 of 162 printed.  |   12 min elapsed, est.  20 remaining\n",
      " 43 %  |   70 of 162 printed.  |   14 min elapsed, est.  18 remaining\n",
      " 49 %  |   80 of 162 printed.  |   19 min elapsed, est.  19 remaining\n",
      " 55 %  |   90 of 162 printed.  |   22 min elapsed, est.  17 remaining\n",
      " 61 %  |  100 of 162 printed.  |   27 min elapsed, est.  17 remaining\n",
      " 67 %  |  110 of 162 printed.  |   38 min elapsed, est.  18 remaining\n",
      " 74 %  |  120 of 162 printed.  |   44 min elapsed, est.  15 remaining\n",
      " 80 %  |  130 of 162 printed.  |   60 min elapsed, est.  15 remaining\n",
      " 86 %  |  140 of 162 printed.  |   63 min elapsed, est.  10 remaining\n",
      " 92 %  |  150 of 162 printed.  |   68 min elapsed, est.   5 remaining\n",
      " 98 %  |  160 of 162 printed.  |   70 min elapsed, est.   1 remaining\n",
      "Finished at 70 minutes.\n"
     ]
    }
   ],
   "source": [
    "### 400 Scale\n",
    "\n",
    "start = time.perf_counter()\n",
    "\n",
    "n = 0\n",
    "while n < len(t_400):\n",
    "    \n",
    "    # Page feature\n",
    "    pg = t_400.iloc[n, :]\n",
    "    \n",
    "    #Geometry Filter\n",
    "    pg_cent_filt = filters.within(pg['SHAPE'].true_centroid, pg['SHAPE'].spatialReference)\n",
    "\n",
    "    # Townships\n",
    "    twp = plss.layers[0].query(geometry_filter = pg_cent_filt, as_df = True).iloc[0]\n",
    "\n",
    "    # Sections\n",
    "    sec = plss.layers[1].query(geometry_filter = pg_cent_filt, as_df = True).iloc[0]\n",
    "    \n",
    "    # Set query for page layers\n",
    "    pages.definitionQuery = f\"page <> '{pg['page']}' and scale <> '100'\"\n",
    "\n",
    "    the_page.definitionQuery = f\"page = '{pg['page']}' and scale <> '100'\"\n",
    "    \n",
    "    # Main Frame extent and scale\n",
    "    pg_ext = convert_extent(pg['SHAPE'].extent, 0.1)\n",
    "\n",
    "    lyt_400.listElements('MAPFRAME_ELEMENT', 'Main Frame')[0].camera.setExtent(pg_ext)\n",
    "    lyt_400.listElements('MAPFRAME_ELEMENT', 'Main Frame')[0].camera.scale = 9600\n",
    "    \n",
    "    ## Locators\n",
    "    # Select township\n",
    "    twp_feats.setSelectionSet([int(twp['objectid'])])\n",
    "\n",
    "    # Turn on pages layer\n",
    "    sec_pages.visible = True\n",
    "\n",
    "    # Select page, filter secs outside of twp, clear section selection if any\n",
    "    sec_pages.setSelectionSet([int(pg['objectid'])])\n",
    "    sec_feats.setSelectionSet([])\n",
    "    sec_feats.definitionQuery = f\"twpid = {twp['twp']}\"\n",
    "\n",
    "    # Section locator to township extent\n",
    "    sec_ext_400 = convert_extent(twp['SHAPE'].extent, 0.05)\n",
    "    sec_loc_400.camera.setExtent(sec_ext_400)\n",
    "    \n",
    "    ## Feature Labeling\n",
    "    pg_filt = filters.intersects(pg['SHAPE'].buffer(25).densify('ANGLE', 10, 10), pg['SHAPE'])\n",
    "\n",
    "    label_filter(pg_filt)\n",
    "\n",
    "    the_map.listLayers('Parcels')[0].listLabelClasses('Standard')[0].SQLQuery += \" and parcel_type = 'Ownership Parcel'\"\n",
    "    the_map.listLayers('Parcels')[0].listLabelClasses('Condos')[0].SQLQuery += \" and parcel_type = 'Condominium Unit'\"\n",
    "    the_map.listLayers('Parcels')[0].listLabelClasses('Leaseholds')[0].SQLQuery += \" and parcel_type = 'Leasehold or Other'\"\n",
    "\n",
    "    p_ids = tax_maps.query(where=\"scale = '400'\", geometry_filter=pg_filt, return_ids_only=True)['objectIds']\n",
    "\n",
    "    pages.listLabelClasses()[0].SQLQuery = f\"objectid in ({','.join([str(x) for x in p_ids])})\"\n",
    "    \n",
    "    lyt_400.listElements('TEXT_ELEMENT', 'Page Name')[0].text = pg['page']\n",
    "    lyt_400.listElements('TEXT_ELEMENT', 'Page Description')[0].text = pg['description'] + '\\n\\nKendall County, Illinois'\n",
    "    \n",
    "    # Export layout item\n",
    "    lyt_400.exportToPDF(\n",
    "        out_pdf = f\"{NAS_loc}/{pg['page']}_{tax_year}_line.pdf\",\n",
    "        resolution = 300,\n",
    "        image_quality = 'NORMAL',\n",
    "        layers_attributes = 'NONE',\n",
    "        georef_info = False\n",
    "    )\n",
    "    \n",
    "    if (n % 10) == 0 and n > 0:\n",
    "        elapsed = (time.perf_counter() - start)\n",
    "        remaining = (time.perf_counter() - start)/(n / len(t_400)) - elapsed\n",
    "        print(f'{int(n / len(t_400) * 100)//1:3} %  |  {n:3} of {len(t_400):3} printed.  |  {elapsed/60:>3.0f} min elapsed, est. {remaining/60:>3.0f} remaining')\n",
    "    \n",
    "    n += 1\n",
    "    \n",
    "print(f'Finished at {(time.perf_counter() - start)/60:.0f} minutes.')"
   ]
  },
  {
   "cell_type": "code",
   "execution_count": null,
   "metadata": {},
   "outputs": [],
   "source": []
  }
 ],
 "metadata": {
  "kernelspec": {
   "display_name": "ArcGISPro",
   "language": "Python",
   "name": "python3"
  },
  "language_info": {
   "file_extension": ".py",
   "name": "python",
   "version": "3"
  }
 },
 "nbformat": 4,
 "nbformat_minor": 2
}
